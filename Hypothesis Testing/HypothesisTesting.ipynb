{
 "cells": [
  {
   "cell_type": "markdown",
   "metadata": {},
   "source": [
    "# Hypothesis Testing"
   ]
  },
  {
   "cell_type": "code",
   "execution_count": 3,
   "metadata": {},
   "outputs": [],
   "source": [
    "import numpy as np\n",
    "from scipy import stats\n",
    "from math import sqrt\n",
    "\n",
    "from IPython.core.interactiveshell import InteractiveShell\n",
    "InteractiveShell.ast_node_interactivity = 'all'"
   ]
  },
  {
   "cell_type": "markdown",
   "metadata": {},
   "source": [
    "#### 1.\tA certain prescription medicine is supposed to contain an average of 247 parts per million(ppm) of a certain chemical. If the concentration is higher than 247 ppm, the drug may cause some side effects., and if the concentration is below 247 ppm the drug may be ineffective. The manufacturer wants to check whether the averge concentration in a large shipment is the required 247 ppm or not. A random sample of 60 portions is tested, and the sample mean is found to be 250 ppm and sample standard deviation is 12ppm. Formulate the hypothesis and test it different alphas = 0.05 and 0.01. State your conclusion"
   ]
  },
  {
   "cell_type": "code",
   "execution_count": 2,
   "metadata": {},
   "outputs": [
    {
     "data": {
      "text/plain": [
       "0.02880084884303063"
      ]
     },
     "execution_count": 2,
     "metadata": {},
     "output_type": "execute_result"
    },
    {
     "data": {
      "text/plain": [
       "0.05760169768606126"
      ]
     },
     "execution_count": 2,
     "metadata": {},
     "output_type": "execute_result"
    }
   ],
   "source": [
    "xbar1 = 250\n",
    "s1 = 12\n",
    "n1 = 60\n",
    "\n",
    "mu0 = 247\n",
    "\n",
    "## Option 1\n",
    "t_test_statistic1 = (xbar1 - mu0) / (s1/sqrt(n1))\n",
    "stats.t.sf(t_test_statistic1,df = n1-1)\n",
    "2*stats.t.sf(t_test_statistic1,df = n1-1)"
   ]
  },
  {
   "cell_type": "code",
   "execution_count": 3,
   "metadata": {},
   "outputs": [
    {
     "data": {
      "text/plain": [
       "0.026403755708056816"
      ]
     },
     "execution_count": 3,
     "metadata": {},
     "output_type": "execute_result"
    },
    {
     "data": {
      "text/plain": [
       "0.05280751141611363"
      ]
     },
     "execution_count": 3,
     "metadata": {},
     "output_type": "execute_result"
    }
   ],
   "source": [
    "xbar1 = 250\n",
    "s1 = 12\n",
    "n1 = 60\n",
    "\n",
    "mu0 = 247\n",
    "\n",
    "## Option 1\n",
    "z_test_statistic1 = (xbar1 - mu0) / (s1/sqrt(n1))\n",
    "stats.norm.sf(z_test_statistic1)\n",
    "2*stats.norm.sf(z_test_statistic1)"
   ]
  },
  {
   "cell_type": "code",
   "execution_count": 3,
   "metadata": {},
   "outputs": [
    {
     "data": {
      "text/plain": [
       "1.9364916731037083"
      ]
     },
     "execution_count": 3,
     "metadata": {},
     "output_type": "execute_result"
    },
    {
     "data": {
      "text/plain": [
       "array([-1.67109303,  1.67109303])"
      ]
     },
     "execution_count": 3,
     "metadata": {},
     "output_type": "execute_result"
    },
    {
     "data": {
      "text/plain": [
       "array([-2.00099538,  2.00099538])"
      ]
     },
     "execution_count": 3,
     "metadata": {},
     "output_type": "execute_result"
    },
    {
     "data": {
      "text/plain": [
       "array([-2.66175875,  2.66175875])"
      ]
     },
     "execution_count": 3,
     "metadata": {},
     "output_type": "execute_result"
    }
   ],
   "source": [
    "## Option2\n",
    "t_test_statistic1\n",
    "stats.t.ppf((0.05, 0.95), df = n1-1)\n",
    "stats.t.ppf((0.025, 0.975), df = n1-1)\n",
    "stats.t.ppf((0.005, 0.995), df = n1-1)"
   ]
  },
  {
   "cell_type": "markdown",
   "metadata": {},
   "source": [
    "#### 2.\tOut of all air-travel bookings in major airlines, at least 58% are said to be done online. A sample of 70 airlines revealed 52% of bookings for last year were done online. State the null and alternate Hypothesis and test it 5% level of significance "
   ]
  },
  {
   "cell_type": "code",
   "execution_count": 4,
   "metadata": {},
   "outputs": [
    {
     "data": {
      "text/plain": [
       "0.8454459414264345"
      ]
     },
     "execution_count": 4,
     "metadata": {},
     "output_type": "execute_result"
    }
   ],
   "source": [
    "n2 = 70\n",
    "p2 = 0.52\n",
    "q2 = 1-p2\n",
    "po = 0.58\n",
    "\n",
    "z_test_statistic_2 = (p2-po) / sqrt(po * (1-po)/n2)\n",
    "stats.norm.sf(z_test_statistic_2)"
   ]
  },
  {
   "cell_type": "code",
   "execution_count": 5,
   "metadata": {},
   "outputs": [
    {
     "data": {
      "text/plain": [
       "-1.0170952554312147"
      ]
     },
     "execution_count": 5,
     "metadata": {},
     "output_type": "execute_result"
    },
    {
     "data": {
      "text/plain": [
       "1.6448536269514722"
      ]
     },
     "execution_count": 5,
     "metadata": {},
     "output_type": "execute_result"
    },
    {
     "data": {
      "text/plain": [
       "1.959963984540054"
      ]
     },
     "execution_count": 5,
     "metadata": {},
     "output_type": "execute_result"
    },
    {
     "data": {
      "text/plain": [
       "2.5758293035489004"
      ]
     },
     "execution_count": 5,
     "metadata": {},
     "output_type": "execute_result"
    }
   ],
   "source": [
    "z_test_statistic_2\n",
    "stats.norm.ppf(0.95)\n",
    "stats.norm.ppf(0.975)\n",
    "stats.norm.ppf(0.995)"
   ]
  },
  {
   "cell_type": "markdown",
   "metadata": {},
   "source": [
    "#### 3.\t A market researcher study is undertaken to test which of the two popular electric shavers , a model of Norelco or model made by Remington, is preferred by consumers. A random sample of 25 men who regularly use an electric shaver, but not one of the two models to be tested, is chosen.\n",
    "Each man is then asked to shave one morning with Norelco and the next morning with Remington or vice versa. The order, which model is used on which day is randomly chosen for each man, \n",
    "After every shave, each man is asked to complete a questionnaire rating his satisfaction with the shaver. From a questionnaire, a total satisfaction score on a scale of 0 to 100 is computed. Then, for each man the difference between the satisfaction score for Norelco and that for Remington is computed. The score differences are \n",
    "15, -8 , 32, 57, 20 , 10, -18, -12, 60, 72, 38, -5, 16, 22, 34, 41, 12, -38, 16, -40, 75,11, 2, 44, 10\n",
    "Which model if any, is statistically preferred over the other ? How confident are you on your findings?\n"
   ]
  },
  {
   "cell_type": "code",
   "execution_count": 6,
   "metadata": {},
   "outputs": [
    {
     "data": {
      "text/plain": [
       "array([-1.71088208,  1.71088208])"
      ]
     },
     "execution_count": 6,
     "metadata": {},
     "output_type": "execute_result"
    },
    {
     "data": {
      "text/plain": [
       "array([-2.06389856,  2.06389856])"
      ]
     },
     "execution_count": 6,
     "metadata": {},
     "output_type": "execute_result"
    },
    {
     "data": {
      "text/plain": [
       "array([-2.7969395,  2.7969395])"
      ]
     },
     "execution_count": 6,
     "metadata": {},
     "output_type": "execute_result"
    }
   ],
   "source": [
    "sample_diff = [15, -8 , 32, 57, 20 , 10, -18, -12, 60, 72, 38, -5, 16, 22, 34, 41, 12, -38, 16, -40, 75,11, 2, 44, 10]\n",
    "mu_diff = 0 \n",
    "n = len(sample_diff)\n",
    "x_bar_diff = np.mean(sample_diff)\n",
    "s = np.std(sample_diff)\n",
    "T_value = (x_bar_diff - mu_diff) / (s/sqrt(n))\n",
    "\n",
    "stats.t.ppf((0.05,0.95),n-1)\n",
    "stats.t.ppf((0.025,0.975),n-1)\n",
    "stats.t.ppf((0.005, 0.995),n-1)"
   ]
  },
  {
   "cell_type": "code",
   "execution_count": 7,
   "metadata": {},
   "outputs": [
    {
     "data": {
      "text/plain": [
       "0.0021738610085629074"
      ]
     },
     "execution_count": 7,
     "metadata": {},
     "output_type": "execute_result"
    }
   ],
   "source": [
    "stats.t.sf(T_value, n-1)"
   ]
  },
  {
   "cell_type": "markdown",
   "metadata": {},
   "source": [
    "#### 4.\tLINC is a software tool developed by Burroughs Corporation. The program automatically writes some of the coding that programmers have to do manually. LINC supposedly saves programming time and allows programme to operate more efficiently. In a test of the software package, 45 programmers (group1) were asked to write a program without LINC and run the program until it performed with no bugs. The times from start to finish for this group were recorded. Group 2 consists of 32 programmers who were asked to prepare the same program with aid of LINC. Before getting the data, the protocol established was to run the test as a one-tailed test to prove that package reduces the average programming time. The results were x1_bar = 26, x2_bar = 21 (in minutes), s1 = 8, s2 = 6 (in minutes). Conduct the test and state your conclusion. Is LINC effective in reducing the average  programming time ??\n"
   ]
  },
  {
   "cell_type": "code",
   "execution_count": 4,
   "metadata": {},
   "outputs": [
    {
     "name": "stdout",
     "output_type": "stream",
     "text": [
      "7.240626123938915\n"
     ]
    }
   ],
   "source": [
    "x1_bar = 26\n",
    "x2_bar = 21\n",
    "s1 = 8 \n",
    "s2 = 6 \n",
    "n1 = 45\n",
    "n2 = 32\n",
    "\n",
    "df = n1+n2-2\n",
    "mu_diff3 = 0 \n",
    "\n",
    "#pooled standard deviation \n",
    "sp = sqrt(((n1-1) * s1**2 + (n2-1) * s2**2 )/(n1+n2-2))\n",
    "\n",
    "print(sp)"
   ]
  },
  {
   "cell_type": "code",
   "execution_count": 6,
   "metadata": {},
   "outputs": [
    {
     "data": {
      "text/plain": [
       "0.0019064940012790757"
      ]
     },
     "execution_count": 6,
     "metadata": {},
     "output_type": "execute_result"
    },
    {
     "data": {
      "text/plain": [
       "0.0019064940012790757"
      ]
     },
     "execution_count": 6,
     "metadata": {},
     "output_type": "execute_result"
    }
   ],
   "source": [
    "t_value3 = ((x1_bar -x2_bar ) - mu_diff3)/(sp *sqrt(1/n1+1/n2))\n",
    "stats.t.sf(t_value3, df)\n",
    "stats.t.sf(t_value3, n1+n2-2)\n"
   ]
  },
  {
   "cell_type": "code",
   "execution_count": 7,
   "metadata": {},
   "outputs": [
    {
     "data": {
      "text/plain": [
       "2.9862747688635984"
      ]
     },
     "execution_count": 7,
     "metadata": {},
     "output_type": "execute_result"
    },
    {
     "data": {
      "text/plain": [
       "1.6654253732396658"
      ]
     },
     "execution_count": 7,
     "metadata": {},
     "output_type": "execute_result"
    },
    {
     "data": {
      "text/plain": [
       "1.9921021536898653"
      ]
     },
     "execution_count": 7,
     "metadata": {},
     "output_type": "execute_result"
    },
    {
     "data": {
      "text/plain": [
       "2.642983063369744"
      ]
     },
     "execution_count": 7,
     "metadata": {},
     "output_type": "execute_result"
    }
   ],
   "source": [
    "t_value3\n",
    "stats.t.ppf(0.95, df )\n",
    "stats.t.ppf(0.975, df )\n",
    "stats.t.ppf(0.995, df )"
   ]
  },
  {
   "cell_type": "code",
   "execution_count": null,
   "metadata": {},
   "outputs": [],
   "source": []
  }
 ],
 "metadata": {
  "kernelspec": {
   "display_name": "Python 3",
   "language": "python",
   "name": "python3"
  },
  "language_info": {
   "codemirror_mode": {
    "name": "ipython",
    "version": 3
   },
   "file_extension": ".py",
   "mimetype": "text/x-python",
   "name": "python",
   "nbconvert_exporter": "python",
   "pygments_lexer": "ipython3",
   "version": "3.8.3"
  }
 },
 "nbformat": 4,
 "nbformat_minor": 2
}
