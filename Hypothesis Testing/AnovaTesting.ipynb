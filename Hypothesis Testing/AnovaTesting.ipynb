{
 "cells": [
  {
   "cell_type": "markdown",
   "metadata": {},
   "source": [
    "# Anova Testing"
   ]
  },
  {
   "cell_type": "code",
   "execution_count": 3,
   "metadata": {},
   "outputs": [],
   "source": [
    "import pandas as pd\n",
    "import numpy as np\n",
    "import seaborn as sns\n",
    "from scipy import stats\n",
    "from math import sqrt\n",
    "import statsmodels.formula.api as smf\n",
    "import statsmodels.api as sm\n",
    "from statsmodels.stats.anova import AnovaRM\n",
    "from statsmodels.stats.libqsturng import psturng, qsturng\n",
    "from scipy.spatial.distance import pdist, squareform\n",
    "\n",
    "from IPython.core.interactiveshell import InteractiveShell\n",
    "InteractiveShell.ast_node_interactivity = 'all'"
   ]
  },
  {
   "cell_type": "markdown",
   "metadata": {},
   "source": [
    "#### 1.\tIn the theory of finance, a market for any asset or commodity is said to be efficient in terms of identical quality and other attributes ( such as risks, incase of the stocks ) are sold at the same price. A Geneva based oil industry analyst wants to test the hypothesis that the spot market for crude oil is efficient. The analyst chooses the Rotterdam oil market and he selects Arabian light as the type of oil to be studied. (Differences in location may cause price differences because of transportation costs, and differences in type of oil – hence, in quality of oil – also affect price. Therefore, both the type and location must be fixed). A random sample of eight sample observations for each of the 4 sources of the spot price of barrel during Feb is collected . Refer the Oil_Prices.csv\n",
    ">a.\tWhat should analyst conclude <br>\n",
    ">b.\tUse the Tukey method to determine which oil types if any have average price difference \n"
   ]
  },
  {
   "cell_type": "code",
   "execution_count": 4,
   "metadata": {},
   "outputs": [],
   "source": [
    "Oil_prices = pd.read_csv(\"Oil_Prices.csv\")"
   ]
  },
  {
   "cell_type": "code",
   "execution_count": 5,
   "metadata": {},
   "outputs": [],
   "source": [
    "Oil_prices_mean = Oil_prices.groupby('Country').agg({'Oil_Price': [np.mean, len]}).reset_index()\n",
    "Oil_prices_mean.columns = ['Country', 'Mean_Oil_Price', 'Count']"
   ]
  },
  {
   "cell_type": "code",
   "execution_count": 6,
   "metadata": {},
   "outputs": [
    {
     "data": {
      "text/plain": [
       "<matplotlib.axes._subplots.AxesSubplot at 0x179065e83d0>"
      ]
     },
     "execution_count": 6,
     "metadata": {},
     "output_type": "execute_result"
    },
    {
     "data": {
      "image/png": "[encoded data removed]",
      "text/plain": [
       "<Figure size 432x288 with 1 Axes>"
      ]
     },
     "metadata": {
      "needs_background": "light"
     },
     "output_type": "display_data"
    }
   ],
   "source": [
    "sns.barplot(data=Oil_prices_mean, x = 'Country', y='Mean_Oil_Price')"
   ]
  },
  {
   "cell_type": "code",
   "execution_count": 8,
   "metadata": {},
   "outputs": [
    {
     "data": {
      "text/plain": [
       "<matplotlib.axes._subplots.AxesSubplot at 0x179065e8220>"
      ]
     },
     "execution_count": 8,
     "metadata": {},
     "output_type": "execute_result"
    },
    {
     "data": {
      "image/png": "[encoded data removed]",
      "text/plain": [
       "<Figure size 432x288 with 1 Axes>"
      ]
     },
     "metadata": {
      "needs_background": "light"
     },
     "output_type": "display_data"
    }
   ],
   "source": [
    "sns.scatterplot(data=Oil_prices_mean, x = 'Country', y='Mean_Oil_Price')"
   ]
  },
  {
   "cell_type": "code",
   "execution_count": 9,
   "metadata": {},
   "outputs": [
    {
     "data": {
      "text/html": [
       "<div>\n",
       "<style scoped>\n",
       "    .dataframe tbody tr th:only-of-type {\n",
       "        vertical-align: middle;\n",
       "    }\n",
       "\n",
       "    .dataframe tbody tr th {\n",
       "        vertical-align: top;\n",
       "    }\n",
       "\n",
       "    .dataframe thead th {\n",
       "        text-align: right;\n",
       "    }\n",
       "</style>\n",
       "<table border=\"1\" class=\"dataframe\">\n",
       "  <thead>\n",
       "    <tr style=\"text-align: right;\">\n",
       "      <th></th>\n",
       "      <th>Country</th>\n",
       "      <th>Mean_Oil_Price</th>\n",
       "      <th>Count</th>\n",
       "    </tr>\n",
       "  </thead>\n",
       "  <tbody>\n",
       "    <tr>\n",
       "      <th>0</th>\n",
       "      <td>Mexico</td>\n",
       "      <td>17.98375</td>\n",
       "      <td>8.0</td>\n",
       "    </tr>\n",
       "    <tr>\n",
       "      <th>1</th>\n",
       "      <td>Oman</td>\n",
       "      <td>18.04750</td>\n",
       "      <td>8.0</td>\n",
       "    </tr>\n",
       "    <tr>\n",
       "      <th>2</th>\n",
       "      <td>UAE</td>\n",
       "      <td>18.13625</td>\n",
       "      <td>8.0</td>\n",
       "    </tr>\n",
       "    <tr>\n",
       "      <th>3</th>\n",
       "      <td>UK</td>\n",
       "      <td>17.99625</td>\n",
       "      <td>8.0</td>\n",
       "    </tr>\n",
       "  </tbody>\n",
       "</table>\n",
       "</div>"
      ],
      "text/plain": [
       "  Country  Mean_Oil_Price  Count\n",
       "0  Mexico        17.98375    8.0\n",
       "1    Oman        18.04750    8.0\n",
       "2     UAE        18.13625    8.0\n",
       "3      UK        17.99625    8.0"
      ]
     },
     "execution_count": 9,
     "metadata": {},
     "output_type": "execute_result"
    }
   ],
   "source": [
    "Oil_prices_mean"
   ]
  },
  {
   "cell_type": "code",
   "execution_count": 10,
   "metadata": {},
   "outputs": [],
   "source": [
    "Oil_prices = Oil_prices.merge(Oil_prices_mean)\n",
    "Oil_prices['grand_mean'] = Oil_prices['Oil_Price'].mean()"
   ]
  },
  {
   "cell_type": "code",
   "execution_count": 11,
   "metadata": {},
   "outputs": [],
   "source": [
    "Oil_prices['STR'] = (Oil_prices['Mean_Oil_Price'] - Oil_prices['grand_mean'])**2\n",
    "Oil_prices['SE'] = (Oil_prices['Oil_Price'] - Oil_prices['Mean_Oil_Price'])**2"
   ]
  },
  {
   "cell_type": "code",
   "execution_count": 12,
   "metadata": {},
   "outputs": [
    {
     "data": {
      "text/html": [
       "<div>\n",
       "<style scoped>\n",
       "    .dataframe tbody tr th:only-of-type {\n",
       "        vertical-align: middle;\n",
       "    }\n",
       "\n",
       "    .dataframe tbody tr th {\n",
       "        vertical-align: top;\n",
       "    }\n",
       "\n",
       "    .dataframe thead th {\n",
       "        text-align: right;\n",
       "    }\n",
       "</style>\n",
       "<table border=\"1\" class=\"dataframe\">\n",
       "  <thead>\n",
       "    <tr style=\"text-align: right;\">\n",
       "      <th></th>\n",
       "      <th>Country</th>\n",
       "      <th>Oil_Price</th>\n",
       "      <th>Mean_Oil_Price</th>\n",
       "      <th>Count</th>\n",
       "      <th>grand_mean</th>\n",
       "      <th>STR</th>\n",
       "      <th>SE</th>\n",
       "    </tr>\n",
       "  </thead>\n",
       "  <tbody>\n",
       "    <tr>\n",
       "      <th>0</th>\n",
       "      <td>UK</td>\n",
       "      <td>17.80</td>\n",
       "      <td>17.99625</td>\n",
       "      <td>8.0</td>\n",
       "      <td>18.040938</td>\n",
       "      <td>0.001997</td>\n",
       "      <td>0.038514</td>\n",
       "    </tr>\n",
       "    <tr>\n",
       "      <th>1</th>\n",
       "      <td>UK</td>\n",
       "      <td>18.00</td>\n",
       "      <td>17.99625</td>\n",
       "      <td>8.0</td>\n",
       "      <td>18.040938</td>\n",
       "      <td>0.001997</td>\n",
       "      <td>0.000014</td>\n",
       "    </tr>\n",
       "    <tr>\n",
       "      <th>2</th>\n",
       "      <td>UK</td>\n",
       "      <td>17.98</td>\n",
       "      <td>17.99625</td>\n",
       "      <td>8.0</td>\n",
       "      <td>18.040938</td>\n",
       "      <td>0.001997</td>\n",
       "      <td>0.000264</td>\n",
       "    </tr>\n",
       "  </tbody>\n",
       "</table>\n",
       "</div>"
      ],
      "text/plain": [
       "  Country  Oil_Price  Mean_Oil_Price  Count  grand_mean       STR        SE\n",
       "0      UK      17.80        17.99625    8.0   18.040938  0.001997  0.038514\n",
       "1      UK      18.00        17.99625    8.0   18.040938  0.001997  0.000014\n",
       "2      UK      17.98        17.99625    8.0   18.040938  0.001997  0.000264"
      ]
     },
     "execution_count": 12,
     "metadata": {},
     "output_type": "execute_result"
    }
   ],
   "source": [
    "Oil_prices.head(3)"
   ]
  },
  {
   "cell_type": "code",
   "execution_count": 13,
   "metadata": {},
   "outputs": [],
   "source": [
    "SSTR = sum(Oil_prices['STR'])\n",
    "SSE = sum(Oil_prices['SE'])"
   ]
  },
  {
   "cell_type": "code",
   "execution_count": 19,
   "metadata": {},
   "outputs": [
    {
     "name": "stdout",
     "output_type": "stream",
     "text": [
      "28\n",
      "3\n"
     ]
    }
   ],
   "source": [
    "df1 = len(Oil_prices) - Oil_prices.Country.nunique()  ## n-r\n",
    "df2 = Oil_prices.Country.nunique() -1                ## r-1\n",
    "\n",
    "MSTR = SSTR/df2\n",
    "MSE = SSE/df1\n",
    "Fstatistic = MSTR/MSE\n",
    "\n",
    "print(df1)\n",
    "print(df2)"
   ]
  },
  {
   "cell_type": "code",
   "execution_count": 15,
   "metadata": {},
   "outputs": [
    {
     "data": {
      "text/plain": [
       "5.317038349349619"
      ]
     },
     "execution_count": 15,
     "metadata": {},
     "output_type": "execute_result"
    }
   ],
   "source": [
    "stats.f.ppf(.995, df2, df1)"
   ]
  },
  {
   "cell_type": "code",
   "execution_count": 16,
   "metadata": {},
   "outputs": [
    {
     "data": {
      "text/plain": [
       "0.24421883677282386"
      ]
     },
     "execution_count": 16,
     "metadata": {},
     "output_type": "execute_result"
    }
   ],
   "source": [
    "stats.f.sf(Fstatistic,df2, df1)"
   ]
  },
  {
   "cell_type": "code",
   "execution_count": 17,
   "metadata": {},
   "outputs": [
    {
     "name": "stdout",
     "output_type": "stream",
     "text": [
      "            sum_sq    df         F    PR(>F)\n",
      "Country   0.115159   3.0  1.469313  0.244219\n",
      "Residual  0.731512  28.0       NaN       NaN\n"
     ]
    }
   ],
   "source": [
    "# generate model for linear regression\n",
    "my_model = smf.ols(formula='Oil_Price ~ Country', data=Oil_prices)\n",
    "\n",
    "# fit model to data to obtain parameter estimates\n",
    "my_model_fit = my_model.fit()\n",
    "\n",
    "# # print summary of linear regression\n",
    "# print(my_model_fit.summary())\n",
    "\n",
    "# show anova table\n",
    "anova_table = sm.stats.anova_lm(my_model_fit, typ=2)\n",
    "print(anova_table)"
   ]
  },
  {
   "cell_type": "code",
   "execution_count": 18,
   "metadata": {},
   "outputs": [
    {
     "data": {
      "text/plain": [
       "2.763262455461066"
      ]
     },
     "execution_count": 18,
     "metadata": {},
     "output_type": "execute_result"
    }
   ],
   "source": [
    "## T value for 95% Confidence intervals for the each of the population means\n",
    "tvalue = stats.t.ppf(0.995, df1)\n",
    "tvalue"
   ]
  },
  {
   "cell_type": "code",
   "execution_count": 23,
   "metadata": {},
   "outputs": [
    {
     "data": {
      "text/html": [
       "<div>\n",
       "<style scoped>\n",
       "    .dataframe tbody tr th:only-of-type {\n",
       "        vertical-align: middle;\n",
       "    }\n",
       "\n",
       "    .dataframe tbody tr th {\n",
       "        vertical-align: top;\n",
       "    }\n",
       "\n",
       "    .dataframe thead th {\n",
       "        text-align: right;\n",
       "    }\n",
       "</style>\n",
       "<table border=\"1\" class=\"dataframe\">\n",
       "  <thead>\n",
       "    <tr style=\"text-align: right;\">\n",
       "      <th></th>\n",
       "      <th>Country</th>\n",
       "      <th>Mean_Oil_Price</th>\n",
       "      <th>Count</th>\n",
       "      <th>LowerCI</th>\n",
       "      <th>UpperCI</th>\n",
       "    </tr>\n",
       "  </thead>\n",
       "  <tbody>\n",
       "    <tr>\n",
       "      <th>0</th>\n",
       "      <td>Mexico</td>\n",
       "      <td>17.98375</td>\n",
       "      <td>8.0</td>\n",
       "      <td>17.82584</td>\n",
       "      <td>18.14166</td>\n",
       "    </tr>\n",
       "    <tr>\n",
       "      <th>1</th>\n",
       "      <td>Oman</td>\n",
       "      <td>18.04750</td>\n",
       "      <td>8.0</td>\n",
       "      <td>17.88959</td>\n",
       "      <td>18.20541</td>\n",
       "    </tr>\n",
       "    <tr>\n",
       "      <th>2</th>\n",
       "      <td>UAE</td>\n",
       "      <td>18.13625</td>\n",
       "      <td>8.0</td>\n",
       "      <td>17.97834</td>\n",
       "      <td>18.29416</td>\n",
       "    </tr>\n",
       "    <tr>\n",
       "      <th>3</th>\n",
       "      <td>UK</td>\n",
       "      <td>17.99625</td>\n",
       "      <td>8.0</td>\n",
       "      <td>17.83834</td>\n",
       "      <td>18.15416</td>\n",
       "    </tr>\n",
       "  </tbody>\n",
       "</table>\n",
       "</div>"
      ],
      "text/plain": [
       "  Country  Mean_Oil_Price  Count   LowerCI   UpperCI\n",
       "0  Mexico        17.98375    8.0  17.82584  18.14166\n",
       "1    Oman        18.04750    8.0  17.88959  18.20541\n",
       "2     UAE        18.13625    8.0  17.97834  18.29416\n",
       "3      UK        17.99625    8.0  17.83834  18.15416"
      ]
     },
     "execution_count": 23,
     "metadata": {},
     "output_type": "execute_result"
    },
    {
     "data": {
      "text/plain": [
       "0.29826100769627323"
      ]
     },
     "execution_count": 23,
     "metadata": {},
     "output_type": "execute_result"
    }
   ],
   "source": [
    "Oil_prices_mean[\"LowerCI\"] = Oil_prices_mean.Mean_Oil_Price - tvalue * (MSE/Oil_prices_mean.Count).apply(sqrt)\n",
    "Oil_prices_mean[\"UpperCI\"] = Oil_prices_mean.Mean_Oil_Price + tvalue * (MSE/Oil_prices_mean.Count).apply(sqrt)\n",
    "\n",
    "Oil_prices_mean.head()\n",
    "## Comparison between different population \n",
    "qsturng(0.995, r=4, v=28) * sqrt(MSE/8)"
   ]
  },
  {
   "cell_type": "code",
   "execution_count": 24,
   "metadata": {},
   "outputs": [
    {
     "data": {
      "text/plain": [
       "0.05999999999999872"
      ]
     },
     "execution_count": 24,
     "metadata": {},
     "output_type": "execute_result"
    }
   ],
   "source": [
    "18.04 - 17.98"
   ]
  },
  {
   "cell_type": "markdown",
   "metadata": {},
   "source": [
    "#### 2.\tA study is undertaken to determine whether differences exist in average consumer quality ratings of the following brands of color television sets, Magnavox, General Electric, Panasonic, Zenith, Sears,  Philco, Sylvania and RCA. For each brand 100 randomly choosen consumer reports are available and from these the following quantities are computed:      SSTR = 45,210, SST = 92340. \n",
    "> a.\tConstruct an ANOVA table for this study and test the null hypothesis that 8 brands have equal average consumer quality rating Vs alternative hypothesis that they do not <br>\n",
    ">b.\tSuppose the sample means in order listed are 77, 78, 82, 94, 88, 89,90,87. Use the Tukey procedure to determine whether differences in average population ratings use 99% confidene\n",
    "\n"
   ]
  },
  {
   "cell_type": "code",
   "execution_count": 17,
   "metadata": {},
   "outputs": [],
   "source": [
    "SSTR = 45210\n",
    "SST = 92340\n",
    "SSE = SST - SSTR\n",
    "r = 8 \n",
    "n = r*100\n",
    "\n",
    "MSE = SSE/(n-r)\n",
    "MSTR = SSTR/(r-1)"
   ]
  },
  {
   "cell_type": "code",
   "execution_count": 18,
   "metadata": {},
   "outputs": [
    {
     "data": {
      "text/plain": [
       "108.5336000727471"
      ]
     },
     "execution_count": 18,
     "metadata": {},
     "output_type": "execute_result"
    },
    {
     "data": {
      "text/plain": [
       "2.6618784106043045"
      ]
     },
     "execution_count": 18,
     "metadata": {},
     "output_type": "execute_result"
    },
    {
     "data": {
      "text/plain": [
       "3.438030420932265e-111"
      ]
     },
     "execution_count": 18,
     "metadata": {},
     "output_type": "execute_result"
    }
   ],
   "source": [
    "Fstatistic_2 =  MSTR/MSE\n",
    "Fstatistic_2\n",
    "stats.f.ppf(0.99, r-1, n-r) ## r-1 and n-1 degrees of freedom\n",
    "stats.f.sf(Fstatistic_2, r-1, n-r)"
   ]
  },
  {
   "cell_type": "code",
   "execution_count": 19,
   "metadata": {},
   "outputs": [
    {
     "data": {
      "text/plain": [
       "4.071165841515532"
      ]
     },
     "execution_count": 19,
     "metadata": {},
     "output_type": "execute_result"
    }
   ],
   "source": [
    "Tukey_value_2 = qsturng(0.995, r = 8, v = 792) * sqrt(MSE/100) ## r and n-r degrees of freedom\n",
    "Tukey_value_2"
   ]
  },
  {
   "cell_type": "code",
   "execution_count": 20,
   "metadata": {},
   "outputs": [],
   "source": [
    "brands = [\"Magnavox\", \"General Electric\", \"Panasonic\", \"Zenith\", \"Sears\",  \"Philco\", \"Sylvania\", \"RCA\"]\n",
    "mean = [77, 78, 82, 94, 88, 89, 90, 87]\n",
    "brand_means = pd.DataFrame({\"brands\":brands, \"mean\":mean})\n",
    "brand_means = brand_means.set_index('brands')"
   ]
  },
  {
   "cell_type": "code",
   "execution_count": 21,
   "metadata": {},
   "outputs": [
    {
     "data": {
      "text/html": [
       "<div>\n",
       "<style scoped>\n",
       "    .dataframe tbody tr th:only-of-type {\n",
       "        vertical-align: middle;\n",
       "    }\n",
       "\n",
       "    .dataframe tbody tr th {\n",
       "        vertical-align: top;\n",
       "    }\n",
       "\n",
       "    .dataframe thead th {\n",
       "        text-align: right;\n",
       "    }\n",
       "</style>\n",
       "<table border=\"1\" class=\"dataframe\">\n",
       "  <thead>\n",
       "    <tr style=\"text-align: right;\">\n",
       "      <th></th>\n",
       "      <th>Magnavox</th>\n",
       "      <th>General Electric</th>\n",
       "      <th>Panasonic</th>\n",
       "      <th>Zenith</th>\n",
       "      <th>Sears</th>\n",
       "      <th>Philco</th>\n",
       "      <th>Sylvania</th>\n",
       "      <th>RCA</th>\n",
       "    </tr>\n",
       "  </thead>\n",
       "  <tbody>\n",
       "    <tr>\n",
       "      <th>Magnavox</th>\n",
       "      <td>4.071166</td>\n",
       "      <td>3.071166</td>\n",
       "      <td>0.928834</td>\n",
       "      <td>12.928834</td>\n",
       "      <td>6.928834</td>\n",
       "      <td>7.928834</td>\n",
       "      <td>8.928834</td>\n",
       "      <td>5.928834</td>\n",
       "    </tr>\n",
       "    <tr>\n",
       "      <th>General Electric</th>\n",
       "      <td>3.071166</td>\n",
       "      <td>4.071166</td>\n",
       "      <td>0.071166</td>\n",
       "      <td>11.928834</td>\n",
       "      <td>5.928834</td>\n",
       "      <td>6.928834</td>\n",
       "      <td>7.928834</td>\n",
       "      <td>4.928834</td>\n",
       "    </tr>\n",
       "    <tr>\n",
       "      <th>Panasonic</th>\n",
       "      <td>0.928834</td>\n",
       "      <td>0.071166</td>\n",
       "      <td>4.071166</td>\n",
       "      <td>7.928834</td>\n",
       "      <td>1.928834</td>\n",
       "      <td>2.928834</td>\n",
       "      <td>3.928834</td>\n",
       "      <td>0.928834</td>\n",
       "    </tr>\n",
       "    <tr>\n",
       "      <th>Zenith</th>\n",
       "      <td>12.928834</td>\n",
       "      <td>11.928834</td>\n",
       "      <td>7.928834</td>\n",
       "      <td>4.071166</td>\n",
       "      <td>1.928834</td>\n",
       "      <td>0.928834</td>\n",
       "      <td>0.071166</td>\n",
       "      <td>2.928834</td>\n",
       "    </tr>\n",
       "    <tr>\n",
       "      <th>Sears</th>\n",
       "      <td>6.928834</td>\n",
       "      <td>5.928834</td>\n",
       "      <td>1.928834</td>\n",
       "      <td>1.928834</td>\n",
       "      <td>4.071166</td>\n",
       "      <td>3.071166</td>\n",
       "      <td>2.071166</td>\n",
       "      <td>3.071166</td>\n",
       "    </tr>\n",
       "    <tr>\n",
       "      <th>Philco</th>\n",
       "      <td>7.928834</td>\n",
       "      <td>6.928834</td>\n",
       "      <td>2.928834</td>\n",
       "      <td>0.928834</td>\n",
       "      <td>3.071166</td>\n",
       "      <td>4.071166</td>\n",
       "      <td>3.071166</td>\n",
       "      <td>2.071166</td>\n",
       "    </tr>\n",
       "    <tr>\n",
       "      <th>Sylvania</th>\n",
       "      <td>8.928834</td>\n",
       "      <td>7.928834</td>\n",
       "      <td>3.928834</td>\n",
       "      <td>0.071166</td>\n",
       "      <td>2.071166</td>\n",
       "      <td>3.071166</td>\n",
       "      <td>4.071166</td>\n",
       "      <td>1.071166</td>\n",
       "    </tr>\n",
       "    <tr>\n",
       "      <th>RCA</th>\n",
       "      <td>5.928834</td>\n",
       "      <td>4.928834</td>\n",
       "      <td>0.928834</td>\n",
       "      <td>2.928834</td>\n",
       "      <td>3.071166</td>\n",
       "      <td>2.071166</td>\n",
       "      <td>1.071166</td>\n",
       "      <td>4.071166</td>\n",
       "    </tr>\n",
       "  </tbody>\n",
       "</table>\n",
       "</div>"
      ],
      "text/plain": [
       "                   Magnavox  General Electric  Panasonic     Zenith     Sears  \\\n",
       "Magnavox           4.071166          3.071166   0.928834  12.928834  6.928834   \n",
       "General Electric   3.071166          4.071166   0.071166  11.928834  5.928834   \n",
       "Panasonic          0.928834          0.071166   4.071166   7.928834  1.928834   \n",
       "Zenith            12.928834         11.928834   7.928834   4.071166  1.928834   \n",
       "Sears              6.928834          5.928834   1.928834   1.928834  4.071166   \n",
       "Philco             7.928834          6.928834   2.928834   0.928834  3.071166   \n",
       "Sylvania           8.928834          7.928834   3.928834   0.071166  2.071166   \n",
       "RCA                5.928834          4.928834   0.928834   2.928834  3.071166   \n",
       "\n",
       "                    Philco  Sylvania       RCA  \n",
       "Magnavox          7.928834  8.928834  5.928834  \n",
       "General Electric  6.928834  7.928834  4.928834  \n",
       "Panasonic         2.928834  3.928834  0.928834  \n",
       "Zenith            0.928834  0.071166  2.928834  \n",
       "Sears             3.071166  2.071166  3.071166  \n",
       "Philco            4.071166  3.071166  2.071166  \n",
       "Sylvania          3.071166  4.071166  1.071166  \n",
       "RCA               2.071166  1.071166  4.071166  "
      ]
     },
     "execution_count": 21,
     "metadata": {},
     "output_type": "execute_result"
    }
   ],
   "source": [
    "a = squareform(pdist(brand_means, 'euclidean'))\n",
    "a = pd.DataFrame(abs(a - Tukey_value_2), columns=brands, index=brands)\n",
    "a"
   ]
  },
  {
   "cell_type": "code",
   "execution_count": 22,
   "metadata": {},
   "outputs": [],
   "source": [
    "brands = [\"Magnavox\", \"General Electric\", \"Panasonic\", \"Zenith\", \"Sears\",  \"Philco\", \"Sylvania\", \"RCA\"]\n",
    "mean = [77, 78, 82, 94, 88, 89,90,87]\n",
    "sample_size = [100, 100, 100, 100, 100, 100, 100, 100]\n",
    "brand_means = pd.DataFrame({\"brands\": brands, \"mean\": mean, \"sample_size\": sample_size})"
   ]
  },
  {
   "cell_type": "code",
   "execution_count": 23,
   "metadata": {},
   "outputs": [],
   "source": [
    "##CI\n",
    "df2 = sum(brand_means[\"sample_size\"]) - len(brand_means) ##n-r degree of freedom\n",
    "\n",
    "brand_means[\"L_CI\"] = brand_means[\"mean\"] + stats.t.ppf(0.005, df2) * MSE/(brand_means[\"sample_size\"]).apply(sqrt)\n",
    "brand_means[\"U_CI\"] = brand_means[\"mean\"] + stats.t.ppf(0.995, df2) * MSE/(brand_means[\"sample_size\"]).apply(sqrt)"
   ]
  },
  {
   "cell_type": "code",
   "execution_count": 24,
   "metadata": {},
   "outputs": [
    {
     "data": {
      "text/html": [
       "<div>\n",
       "<style scoped>\n",
       "    .dataframe tbody tr th:only-of-type {\n",
       "        vertical-align: middle;\n",
       "    }\n",
       "\n",
       "    .dataframe tbody tr th {\n",
       "        vertical-align: top;\n",
       "    }\n",
       "\n",
       "    .dataframe thead th {\n",
       "        text-align: right;\n",
       "    }\n",
       "</style>\n",
       "<table border=\"1\" class=\"dataframe\">\n",
       "  <thead>\n",
       "    <tr style=\"text-align: right;\">\n",
       "      <th></th>\n",
       "      <th>brands</th>\n",
       "      <th>mean</th>\n",
       "      <th>sample_size</th>\n",
       "      <th>L_CI</th>\n",
       "      <th>U_CI</th>\n",
       "    </tr>\n",
       "  </thead>\n",
       "  <tbody>\n",
       "    <tr>\n",
       "      <th>0</th>\n",
       "      <td>Magnavox</td>\n",
       "      <td>77</td>\n",
       "      <td>100</td>\n",
       "      <td>61.634839</td>\n",
       "      <td>92.365161</td>\n",
       "    </tr>\n",
       "    <tr>\n",
       "      <th>1</th>\n",
       "      <td>General Electric</td>\n",
       "      <td>78</td>\n",
       "      <td>100</td>\n",
       "      <td>62.634839</td>\n",
       "      <td>93.365161</td>\n",
       "    </tr>\n",
       "    <tr>\n",
       "      <th>2</th>\n",
       "      <td>Panasonic</td>\n",
       "      <td>82</td>\n",
       "      <td>100</td>\n",
       "      <td>66.634839</td>\n",
       "      <td>97.365161</td>\n",
       "    </tr>\n",
       "    <tr>\n",
       "      <th>3</th>\n",
       "      <td>Zenith</td>\n",
       "      <td>94</td>\n",
       "      <td>100</td>\n",
       "      <td>78.634839</td>\n",
       "      <td>109.365161</td>\n",
       "    </tr>\n",
       "    <tr>\n",
       "      <th>4</th>\n",
       "      <td>Sears</td>\n",
       "      <td>88</td>\n",
       "      <td>100</td>\n",
       "      <td>72.634839</td>\n",
       "      <td>103.365161</td>\n",
       "    </tr>\n",
       "    <tr>\n",
       "      <th>5</th>\n",
       "      <td>Philco</td>\n",
       "      <td>89</td>\n",
       "      <td>100</td>\n",
       "      <td>73.634839</td>\n",
       "      <td>104.365161</td>\n",
       "    </tr>\n",
       "    <tr>\n",
       "      <th>6</th>\n",
       "      <td>Sylvania</td>\n",
       "      <td>90</td>\n",
       "      <td>100</td>\n",
       "      <td>74.634839</td>\n",
       "      <td>105.365161</td>\n",
       "    </tr>\n",
       "    <tr>\n",
       "      <th>7</th>\n",
       "      <td>RCA</td>\n",
       "      <td>87</td>\n",
       "      <td>100</td>\n",
       "      <td>71.634839</td>\n",
       "      <td>102.365161</td>\n",
       "    </tr>\n",
       "  </tbody>\n",
       "</table>\n",
       "</div>"
      ],
      "text/plain": [
       "             brands  mean  sample_size       L_CI        U_CI\n",
       "0          Magnavox    77          100  61.634839   92.365161\n",
       "1  General Electric    78          100  62.634839   93.365161\n",
       "2         Panasonic    82          100  66.634839   97.365161\n",
       "3            Zenith    94          100  78.634839  109.365161\n",
       "4             Sears    88          100  72.634839  103.365161\n",
       "5            Philco    89          100  73.634839  104.365161\n",
       "6          Sylvania    90          100  74.634839  105.365161\n",
       "7               RCA    87          100  71.634839  102.365161"
      ]
     },
     "execution_count": 24,
     "metadata": {},
     "output_type": "execute_result"
    }
   ],
   "source": [
    "brand_means"
   ]
  },
  {
   "cell_type": "markdown",
   "metadata": {},
   "source": [
    "#### 3.\tAnalysis of Variance has long been used in providing evidence of the effectiveness of pharma drugs. Such evidence is required before the FDA will allow the drug to be marketed. In a recent test of the effectiveness of a new sleeping pill, three groups of 25 patients each for given the following treatment. The first group was given the drug, the second group was given a placebo, No-treatment group. The number of minutes it took each person to fall asleep.\n",
    ">Drug Group : 12,17,34,11,5,42,18,27,2,37,50,32,12,27,21,10,4,33,63,22,41,19,28,29,8\n",
    "<br>Placebo Group: 44,32,28,30,22,12,3,12,42,13,27,54,56,32,37,28,22,22,24,9,20,4,13,42,67\n",
    "<br>No-treatement Group: 32, 33, 21, 12, 15, 14, 55,67, 72,1,44,60,36,38,49,66,89,63,23,6,9,56,28,39,59\n",
    "<br>Determine whether drug is effective. What about placebo \n"
   ]
  },
  {
   "cell_type": "code",
   "execution_count": 25,
   "metadata": {},
   "outputs": [],
   "source": [
    "Drug = [12,17,34,11,5,42,18,27,2,37,50,32,12,27,21,10,4,33,63,22,41,19,28,29,8]\n",
    "Placebo = [44,32,28,30,22,12,3,12,42,13,27,54,56,32,37,28,22,22,24,9,20,4,13,42,67]\n",
    "Notreatment = [32, 33, 21, 12, 15, 14, 55,67, 72,1,44,60,36,38,49,66,89,63,23,6,9,56,28,39,59]\n",
    "\n",
    "Data3 = pd.DataFrame({\"Drug\":Drug, \"Placebo\":Placebo, \"Notreatment\": Notreatment})\n",
    "\n",
    "Data3 = Data3.melt(var_name=\"Group\", value_name=\"Mins\")"
   ]
  },
  {
   "cell_type": "code",
   "execution_count": 26,
   "metadata": {},
   "outputs": [
    {
     "data": {
      "text/html": [
       "<div>\n",
       "<style scoped>\n",
       "    .dataframe tbody tr th:only-of-type {\n",
       "        vertical-align: middle;\n",
       "    }\n",
       "\n",
       "    .dataframe tbody tr th {\n",
       "        vertical-align: top;\n",
       "    }\n",
       "\n",
       "    .dataframe thead th {\n",
       "        text-align: right;\n",
       "    }\n",
       "</style>\n",
       "<table border=\"1\" class=\"dataframe\">\n",
       "  <thead>\n",
       "    <tr style=\"text-align: right;\">\n",
       "      <th></th>\n",
       "      <th>Group</th>\n",
       "      <th>Mins</th>\n",
       "    </tr>\n",
       "  </thead>\n",
       "  <tbody>\n",
       "    <tr>\n",
       "      <th>41</th>\n",
       "      <td>Placebo</td>\n",
       "      <td>22</td>\n",
       "    </tr>\n",
       "    <tr>\n",
       "      <th>44</th>\n",
       "      <td>Placebo</td>\n",
       "      <td>9</td>\n",
       "    </tr>\n",
       "    <tr>\n",
       "      <th>8</th>\n",
       "      <td>Drug</td>\n",
       "      <td>2</td>\n",
       "    </tr>\n",
       "    <tr>\n",
       "      <th>32</th>\n",
       "      <td>Placebo</td>\n",
       "      <td>12</td>\n",
       "    </tr>\n",
       "    <tr>\n",
       "      <th>64</th>\n",
       "      <td>Notreatment</td>\n",
       "      <td>49</td>\n",
       "    </tr>\n",
       "  </tbody>\n",
       "</table>\n",
       "</div>"
      ],
      "text/plain": [
       "          Group  Mins\n",
       "41      Placebo    22\n",
       "44      Placebo     9\n",
       "8          Drug     2\n",
       "32      Placebo    12\n",
       "64  Notreatment    49"
      ]
     },
     "execution_count": 26,
     "metadata": {},
     "output_type": "execute_result"
    }
   ],
   "source": [
    "Data3.sample(5)"
   ]
  },
  {
   "cell_type": "code",
   "execution_count": 27,
   "metadata": {},
   "outputs": [
    {
     "name": "stdout",
     "output_type": "stream",
     "text": [
      "            sum_sq    df         F    PR(>F)\n",
      "Country   0.115159   3.0  1.469313  0.244219\n",
      "Residual  0.731512  28.0       NaN       NaN\n"
     ]
    }
   ],
   "source": [
    "# generate model for linear regression\n",
    "my_model3 = smf.ols(formula='Mins ~ Group', data=Data3)\n",
    "\n",
    "# fit model to data to obtain parameter estimates\n",
    "my_model_fit3 = my_model3.fit()\n",
    "\n",
    "# # print summary of linear regression\n",
    "# print(my_model_fit3.summary())\n",
    "\n",
    "# show anova table\n",
    "anova_table3 = sm.stats.anova_lm(my_model_fit3, typ=2)\n",
    "print(anova_table)"
   ]
  },
  {
   "cell_type": "code",
   "execution_count": 28,
   "metadata": {},
   "outputs": [
    {
     "data": {
      "text/html": [
       "<div>\n",
       "<style scoped>\n",
       "    .dataframe tbody tr th:only-of-type {\n",
       "        vertical-align: middle;\n",
       "    }\n",
       "\n",
       "    .dataframe tbody tr th {\n",
       "        vertical-align: top;\n",
       "    }\n",
       "\n",
       "    .dataframe thead th {\n",
       "        text-align: right;\n",
       "    }\n",
       "</style>\n",
       "<table border=\"1\" class=\"dataframe\">\n",
       "  <thead>\n",
       "    <tr style=\"text-align: right;\">\n",
       "      <th></th>\n",
       "      <th>df</th>\n",
       "      <th>sum_sq</th>\n",
       "      <th>mean_sq</th>\n",
       "      <th>F</th>\n",
       "      <th>PR(&gt;F)</th>\n",
       "    </tr>\n",
       "  </thead>\n",
       "  <tbody>\n",
       "    <tr>\n",
       "      <th>C(Group)</th>\n",
       "      <td>2.0</td>\n",
       "      <td>3203.12</td>\n",
       "      <td>1601.560000</td>\n",
       "      <td>4.547087</td>\n",
       "      <td>0.013815</td>\n",
       "    </tr>\n",
       "    <tr>\n",
       "      <th>Residual</th>\n",
       "      <td>72.0</td>\n",
       "      <td>25359.60</td>\n",
       "      <td>352.216667</td>\n",
       "      <td>NaN</td>\n",
       "      <td>NaN</td>\n",
       "    </tr>\n",
       "  </tbody>\n",
       "</table>\n",
       "</div>"
      ],
      "text/plain": [
       "            df    sum_sq      mean_sq         F    PR(>F)\n",
       "C(Group)   2.0   3203.12  1601.560000  4.547087  0.013815\n",
       "Residual  72.0  25359.60   352.216667       NaN       NaN"
      ]
     },
     "execution_count": 28,
     "metadata": {},
     "output_type": "execute_result"
    }
   ],
   "source": [
    "from bioinfokit.analys import stat\n",
    "res = stat()\n",
    "res.anova_stat(df=Data3, res_var='Mins', xfac_var='Group')\n",
    "res.anova_summary"
   ]
  },
  {
   "cell_type": "code",
   "execution_count": 29,
   "metadata": {},
   "outputs": [
    {
     "data": {
      "text/plain": [
       "14.180833422119685"
      ]
     },
     "execution_count": 29,
     "metadata": {},
     "output_type": "execute_result"
    }
   ],
   "source": [
    "MSE3 = res.anova_summary['mean_sq']['Residual']\n",
    "Tukey_value_3 = qsturng(0.975, r=3, v=72) * sqrt(MSE3/25)\n",
    "Tukey_value_3"
   ]
  },
  {
   "cell_type": "code",
   "execution_count": 30,
   "metadata": {},
   "outputs": [
    {
     "data": {
      "text/plain": [
       "Group\n",
       "Drug           24.16\n",
       "Notreatment    39.48\n",
       "Placebo        27.80\n",
       "Name: Mins, dtype: float64"
      ]
     },
     "execution_count": 30,
     "metadata": {},
     "output_type": "execute_result"
    }
   ],
   "source": [
    "Data3.groupby('Group')['Mins'].apply(np.mean)"
   ]
  }
 ],
 "metadata": {
  "kernelspec": {
   "display_name": "Python 3",
   "language": "python",
   "name": "python3"
  },
  "language_info": {
   "codemirror_mode": {
    "name": "ipython",
    "version": 3
   },
   "file_extension": ".py",
   "mimetype": "text/x-python",
   "name": "python",
   "nbconvert_exporter": "python",
   "pygments_lexer": "ipython3",
   "version": "3.8.3"
  }
 },
 "nbformat": 4,
 "nbformat_minor": 2
}
