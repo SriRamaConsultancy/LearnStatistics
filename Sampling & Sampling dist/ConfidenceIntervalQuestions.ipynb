{
 "cells": [
  {
   "cell_type": "markdown",
   "metadata": {},
   "source": [
    "## Confidence Interval Questions"
   ]
  },
  {
   "cell_type": "code",
   "execution_count": 1,
   "metadata": {},
   "outputs": [],
   "source": [
    "import numpy as np\n",
    "import seaborn as sns\n",
    "from scipy import stats\n",
    "from math import sqrt\n",
    "import warnings\n",
    "warnings.filterwarnings(\"ignore\")\n",
    "\n",
    "from IPython.core.interactiveshell import InteractiveShell\n",
    "InteractiveShell.ast_node_interactivity = 'all'"
   ]
  },
  {
   "cell_type": "code",
   "execution_count": 8,
   "metadata": {},
   "outputs": [
    {
     "data": {
      "text/plain": [
       "array([-1.95996398,  1.95996398])"
      ]
     },
     "execution_count": 8,
     "metadata": {},
     "output_type": "execute_result"
    }
   ],
   "source": [
    "stats.norm.ppf([0.025, 0.975])"
   ]
  },
  {
   "cell_type": "code",
   "execution_count": 16,
   "metadata": {},
   "outputs": [
    {
     "data": {
      "text/plain": [
       "-1.9599639845400545"
      ]
     },
     "execution_count": 16,
     "metadata": {},
     "output_type": "execute_result"
    }
   ],
   "source": []
  },
  {
   "cell_type": "code",
   "execution_count": 15,
   "metadata": {},
   "outputs": [
    {
     "data": {
      "text/plain": [
       "array([-1.96194449,  1.96194449])"
      ]
     },
     "execution_count": 15,
     "metadata": {},
     "output_type": "execute_result"
    }
   ],
   "source": [
    "stats.t.ppf([0.025,0.975],1199)"
   ]
  },
  {
   "cell_type": "markdown",
   "metadata": {},
   "source": [
    "#### Q1. A Tire manufacturer wants to estimate the average number of miles that may be driven on a tire of a certain type before the tire wears out. A random sample of 32 tires is chosen, the tires are driven on until they wear out, and the number of miles driven on each tire is recorded. The data in thousands of miles, are as follows:\n",
    "32, 33, 28, 37,29,30,25,27,39,40,26,26,27,30,25,30,31,29,24,36,25,37,37,20,22,35,23,28,30,36,40,41\n",
    "Give a 90%,95%, 99% CI for the average number of miles that may be driven on a tire of this kind."
   ]
  },
  {
   "cell_type": "code",
   "execution_count": 14,
   "metadata": {},
   "outputs": [
    {
     "name": "stdout",
     "output_type": "stream",
     "text": [
      "32\n",
      "31\n",
      "[-1.69551879  1.69551879]\n",
      "90%\n"
     ]
    },
    {
     "data": {
      "text/plain": [
       "array([28.83156489, 32.29343511])"
      ]
     },
     "execution_count": 14,
     "metadata": {},
     "output_type": "execute_result"
    },
    {
     "name": "stdout",
     "output_type": "stream",
     "text": [
      "[-2.03951345  2.03951345]\n",
      "95%\n"
     ]
    },
    {
     "data": {
      "text/plain": [
       "array([28.4803848, 32.6446152])"
      ]
     },
     "execution_count": 14,
     "metadata": {},
     "output_type": "execute_result"
    },
    {
     "name": "stdout",
     "output_type": "stream",
     "text": [
      "[-2.74404192  2.74404192]\n",
      "99%\n"
     ]
    },
    {
     "data": {
      "text/plain": [
       "array([27.76114, 33.36386])"
      ]
     },
     "execution_count": 14,
     "metadata": {},
     "output_type": "execute_result"
    }
   ],
   "source": [
    "data1 = [32, 33, 28, 37, 29, 30, 25, 27, 39, 40, 26, 26, 27, 30, 25, 30, 31, 29, 24, 36, 25, 37, 37, 20, 22, \n",
    "         35, 23, 28, 30, 36, 40, 41]\n",
    "x_bar1 = np.mean(data1)\n",
    "s1 = np.std(data1, ddof=1) ## Sample Standard Deviation\n",
    "n1 = len(data1)\n",
    "df1 = n1-1\n",
    "print(n1)\n",
    "print(df1)\n",
    "\n",
    "##90% CI\n",
    "T_90_CI = stats.t.ppf([0.05,0.95],df1)\n",
    "print(T_90_CI)\n",
    "print(\"90%\")\n",
    "x_bar1 + T_90_CI*s1/sqrt(n1)\n",
    "\n",
    "\n",
    "T_95_CI = stats.t.ppf([0.025,0.975],df1)\n",
    "print(T_95_CI)\n",
    "print(\"95%\")\n",
    "x_bar1 + T_95_CI*s1/sqrt(n1)\n",
    "\n",
    "T_99_CI = stats.t.ppf([0.005,0.995],df1)\n",
    "print(T_99_CI)\n",
    "print(\"99%\")\n",
    "x_bar1 + T_99_CI*s1/sqrt(n1)"
   ]
  },
  {
   "cell_type": "markdown",
   "metadata": {},
   "source": [
    "#### Q2. An article in USA today discusses things Americans do to try to rid themselves of junk e-mail. If a random sample of 1200 internet users yields an average of 43 junk e-mails messages per day and standard deviation is 14. Give 99% confidence interval"
   ]
  },
  {
   "cell_type": "code",
   "execution_count": 3,
   "metadata": {},
   "outputs": [],
   "source": [
    "x_bar2 = 43\n",
    "s2 = 14\n",
    "n2 = 1200\n",
    "df2 = n2-1"
   ]
  },
  {
   "cell_type": "code",
   "execution_count": 4,
   "metadata": {},
   "outputs": [
    {
     "data": {
      "text/plain": [
       "array([42.33472631, 43.66527369])"
      ]
     },
     "execution_count": 4,
     "metadata": {},
     "output_type": "execute_result"
    },
    {
     "data": {
      "text/plain": [
       "array([42.20708957, 44.04266872])"
      ]
     },
     "execution_count": 4,
     "metadata": {},
     "output_type": "execute_result"
    },
    {
     "data": {
      "text/plain": [
       "array([41.95733128, 44.04266872])"
      ]
     },
     "execution_count": 4,
     "metadata": {},
     "output_type": "execute_result"
    }
   ],
   "source": [
    "##90% CI\n",
    "T_90_CI = stats.t.ppf([0.05,0.95],df2)\n",
    "x_bar2 + T_90_CI*s2/sqrt(n2)\n",
    "\n",
    "T_95_CI = stats.t.ppf([0.025,0.995],df2)\n",
    "x_bar2 + T_95_CI*s2/sqrt(n2)\n",
    "\n",
    "T_99_CI = stats.t.ppf([0.005,0.995],df2)\n",
    "x_bar2 + T_99_CI*s2/sqrt(n2)"
   ]
  },
  {
   "cell_type": "code",
   "execution_count": 5,
   "metadata": {},
   "outputs": [
    {
     "data": {
      "text/plain": [
       "array([42.33524032, 43.66475968])"
      ]
     },
     "execution_count": 5,
     "metadata": {},
     "output_type": "execute_result"
    },
    {
     "data": {
      "text/plain": [
       "array([42.20788999, 44.04100902])"
      ]
     },
     "execution_count": 5,
     "metadata": {},
     "output_type": "execute_result"
    },
    {
     "data": {
      "text/plain": [
       "array([41.95899098, 44.04100902])"
      ]
     },
     "execution_count": 5,
     "metadata": {},
     "output_type": "execute_result"
    }
   ],
   "source": [
    "N_90_CI = stats.norm.ppf([0.05,0.95])\n",
    "x_bar2 + N_90_CI*s2/sqrt(n2)\n",
    "\n",
    "N_95_CI = stats.norm.ppf([0.025,0.995])\n",
    "x_bar2 + N_95_CI*s2/sqrt(n2)\n",
    "\n",
    "N_99_CI = stats.norm.ppf([0.005,0.995])\n",
    "x_bar2 + N_99_CI*s2/sqrt(n2)"
   ]
  },
  {
   "cell_type": "markdown",
   "metadata": {},
   "source": [
    "#### Q3. The makers of a medicated facial skin cream are interested in determining the percentage of people in a given age group who may benefit from the ointment. A random sample of 68 people results in 42 successful treatments. Give 90%, 95%, 99% CI for the proportion of people in the given age group who may be successfully treated with facial cream."
   ]
  },
  {
   "cell_type": "code",
   "execution_count": 6,
   "metadata": {},
   "outputs": [
    {
     "data": {
      "text/plain": [
       "array([0.52071327, 0.71458085])"
      ]
     },
     "execution_count": 6,
     "metadata": {},
     "output_type": "execute_result"
    },
    {
     "data": {
      "text/plain": [
       "array([0.50214332, 0.7331508 ])"
      ]
     },
     "execution_count": 6,
     "metadata": {},
     "output_type": "execute_result"
    },
    {
     "data": {
      "text/plain": [
       "array([0.46584942, 0.7694447 ])"
      ]
     },
     "execution_count": 6,
     "metadata": {},
     "output_type": "execute_result"
    }
   ],
   "source": [
    "##Q3 Propporytion related \n",
    "p = 42/68\n",
    "q = 1-p\n",
    "s3 = sqrt(p*q)\n",
    "n3 = 68\n",
    "#n*p and n*q > 5\n",
    "\n",
    "N_90_CI = stats.norm.ppf([0.05,0.95])\n",
    "p + N_90_CI*s3/sqrt(n3)\n",
    "\n",
    "N_95_CI = stats.norm.ppf([0.025,0.975])\n",
    "p + N_95_CI*s3/sqrt(n3)\n",
    "\n",
    "N_99_CI = stats.norm.ppf([0.005,0.995])\n",
    "p + N_99_CI*s3/sqrt(n3)"
   ]
  },
  {
   "cell_type": "markdown",
   "metadata": {},
   "source": [
    "#### Q4 A company that conducts survey of current jobs for executives want to estimate the average salary of an executive at a given level to within \\$2000 with 95% CI. From previous surveys it is known that variance of executive salaries is 40,000,000. What is the minimum required sample ?"
   ]
  },
  {
   "cell_type": "code",
   "execution_count": 25,
   "metadata": {},
   "outputs": [],
   "source": [
    "B = 3000\n",
    "v4 = 40000000\n",
    "zalpha = stats.norm.ppf([0.95,0.975, 0.995])\n",
    "n4 = (zalpha**2*v4 )/B**2"
   ]
  },
  {
   "cell_type": "code",
   "execution_count": 26,
   "metadata": {},
   "outputs": [
    {
     "data": {
      "text/plain": [
       "array([12.02463757, 17.07315031, 29.48842934])"
      ]
     },
     "execution_count": 26,
     "metadata": {},
     "output_type": "execute_result"
    }
   ],
   "source": [
    "n4"
   ]
  },
  {
   "cell_type": "markdown",
   "metadata": {},
   "source": [
    "#### Q5 Find the minimum required sample size of accounts if the proportion of accounts in error is to be estimated to be within 0.02 with 95% confidence. A rough guess of the proportion of accounts in error is 0.10."
   ]
  },
  {
   "cell_type": "code",
   "execution_count": null,
   "metadata": {},
   "outputs": [],
   "source": []
  },
  {
   "cell_type": "code",
   "execution_count": 9,
   "metadata": {},
   "outputs": [
    {
     "data": {
      "text/plain": [
       "array([ 608.74727717,  864.32823466, 1492.85173523])"
      ]
     },
     "execution_count": 9,
     "metadata": {},
     "output_type": "execute_result"
    }
   ],
   "source": [
    "p = 0.1\n",
    "q = 1-p\n",
    "B5 = 0.02\n",
    "n5 = (zalpha**2* p*q)/B5**2\n",
    "n5"
   ]
  },
  {
   "cell_type": "code",
   "execution_count": null,
   "metadata": {},
   "outputs": [],
   "source": []
  }
 ],
 "metadata": {
  "kernelspec": {
   "display_name": "Python 3",
   "language": "python",
   "name": "python3"
  },
  "language_info": {
   "codemirror_mode": {
    "name": "ipython",
    "version": 3
   },
   "file_extension": ".py",
   "mimetype": "text/x-python",
   "name": "python",
   "nbconvert_exporter": "python",
   "pygments_lexer": "ipython3",
   "version": "3.8.3"
  }
 },
 "nbformat": 4,
 "nbformat_minor": 2
}
