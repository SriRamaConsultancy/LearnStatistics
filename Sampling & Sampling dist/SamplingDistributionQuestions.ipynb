{
 "cells": [
  {
   "cell_type": "markdown",
   "metadata": {},
   "source": [
    "## Sampling Distribution Questions"
   ]
  },
  {
   "cell_type": "code",
   "execution_count": 1,
   "metadata": {},
   "outputs": [],
   "source": [
    "import numpy as np\n",
    "from math import sqrt\n",
    "from scipy import stats\n",
    "import pandas as pd\n",
    "import seaborn as sns\n",
    "\n",
    "from IPython.core.interactiveshell import InteractiveShell\n",
    "InteractiveShell.ast_node_interactivity = 'all'"
   ]
  },
  {
   "cell_type": "markdown",
   "metadata": {},
   "source": [
    "#### Q1. According to a recent article in Forbes magazine, the average price in Midwest is \\\\$119600. Assume that the standard deviation is \\\\$35000. A random sample of 75 houses is taken and average price is computed\n",
    ">a.\tWhat is the probability that the sample mean exceeds \\\\$ 125000 <br>\n",
    ">b.\tThe population standard deviation of the prices is not known. It may be any where between \\\\$30,000 to \\\\$ 40,000. Tabulate the probability of sample mean exceeding $125000 for standard deviation values \\\\$30000 to \\\\$ 40000 in steps of \\\\$500"
   ]
  },
  {
   "cell_type": "code",
   "execution_count": 9,
   "metadata": {},
   "outputs": [
    {
     "data": {
      "text/plain": [
       "0.09074955636881604"
      ]
     },
     "execution_count": 9,
     "metadata": {},
     "output_type": "execute_result"
    }
   ],
   "source": [
    "## part a\n",
    "\n",
    "mu_1 = 119600 ##population mean\n",
    "sigma_1 = 35000 ## assumed\n",
    "n1 = 75\n",
    "#z_1a = (125000-mu1)/(sigma_1/sqrt(n1))\n",
    "#stats.norm.sf(z_1a)\n",
    "stats.norm.sf(125000, mu_1, sigma_1/sqrt(n1))"
   ]
  },
  {
   "cell_type": "code",
   "execution_count": 15,
   "metadata": {},
   "outputs": [
    {
     "data": {
      "text/plain": [
       "<matplotlib.axes._subplots.AxesSubplot at 0x26bd93d4250>"
      ]
     },
     "execution_count": 15,
     "metadata": {},
     "output_type": "execute_result"
    },
    {
     "data": {
      "image/png": "[encoded data removed]",
      "text/plain": [
       "<Figure size 432x288 with 1 Axes>"
      ]
     },
     "metadata": {
      "needs_background": "light"
     },
     "output_type": "display_data"
    }
   ],
   "source": [
    "## part b\n",
    "\n",
    "s_dev = np.arange(5000, 80000, 500)\n",
    "p_prob = stats.norm.sf(125000, mu_1, s_dev/sqrt(n1))\n",
    "Output_Sdev_Probabilty = pd.DataFrame(zip(s_dev, p_prob), columns=['Standard_Deviation', 'Probability'])\n",
    "sns.scatterplot(data=Output_Sdev_Probabilty, x=\"Standard_Deviation\", y=\"Probability\")"
   ]
  },
  {
   "cell_type": "markdown",
   "metadata": {},
   "source": [
    "#### Q2. According to Money, the average US Government bond earned 2.9% over the first 3 months of 2004.  Assume a standard deviation of 0.5%. What is the probability that the average earnings in a random sample of 25 exceeded 3.0%?"
   ]
  },
  {
   "cell_type": "code",
   "execution_count": 3,
   "metadata": {},
   "outputs": [
    {
     "data": {
      "text/plain": [
       "0.15865525393145685"
      ]
     },
     "execution_count": 3,
     "metadata": {},
     "output_type": "execute_result"
    },
    {
     "data": {
      "text/plain": [
       "0.15865525393145685"
      ]
     },
     "execution_count": 3,
     "metadata": {},
     "output_type": "execute_result"
    }
   ],
   "source": [
    "x_bar2 = 2.9\n",
    "s2 = 0.5\n",
    "n2 = 25\n",
    "z2 = (3.0-x_bar2)/(s2/sqrt(n2))\n",
    "stats.norm.sf(z2)\n",
    "stats.norm.sf(3, x_bar2, s2/sqrt(n2))"
   ]
  },
  {
   "cell_type": "markdown",
   "metadata": {},
   "source": [
    "#### Q3. 38 percent of all shoppers at a large department store are holders of store’s charge card. If a random sample of 100 shoppers is taken, what is the probability that at least 30 of them will be found holders of the card ?"
   ]
  },
  {
   "cell_type": "code",
   "execution_count": 16,
   "metadata": {},
   "outputs": [
    {
     "data": {
      "text/plain": [
       "0.9503412364309345"
      ]
     },
     "execution_count": 16,
     "metadata": {},
     "output_type": "execute_result"
    },
    {
     "data": {
      "text/plain": [
       "0.9503412364309345"
      ]
     },
     "execution_count": 16,
     "metadata": {},
     "output_type": "execute_result"
    }
   ],
   "source": [
    "p3 = 0.38 # Population mean \n",
    "n3 = 100 # sample size \n",
    "s3 = sqrt((p3*(1-p3)))\n",
    "z3 = (0.3-p3)/(s3/sqrt(n3))\n",
    "stats.norm.sf(z3)\n",
    "stats.norm.sf(0.3,p3,s3/sqrt(n3))"
   ]
  },
  {
   "cell_type": "markdown",
   "metadata": {},
   "source": [
    "#### Q4. Japan’s birth rate is believed to be 1.57 per woman. Assume that the population standard deviation is 0.4. If a random sample of 200 women is selected. What is the probability that the sample would fall between 1.52 and 1.62?\n"
   ]
  },
  {
   "cell_type": "code",
   "execution_count": 4,
   "metadata": {},
   "outputs": [
    {
     "data": {
      "text/plain": [
       "0.9229001282564586"
      ]
     },
     "execution_count": 4,
     "metadata": {},
     "output_type": "execute_result"
    }
   ],
   "source": [
    "x_bar4 = 1.57\n",
    "n4 = 200\n",
    "s4 = 0.4\n",
    "stats.norm.cdf(1.62, x_bar4, s4/sqrt(n4)) - stats.norm.cdf(1.52, x_bar4, s4/sqrt(n4))"
   ]
  },
  {
   "cell_type": "code",
   "execution_count": null,
   "metadata": {},
   "outputs": [],
   "source": []
  }
 ],
 "metadata": {
  "kernelspec": {
   "display_name": "Python 3",
   "language": "python",
   "name": "python3"
  },
  "language_info": {
   "codemirror_mode": {
    "name": "ipython",
    "version": 3
   },
   "file_extension": ".py",
   "mimetype": "text/x-python",
   "name": "python",
   "nbconvert_exporter": "python",
   "pygments_lexer": "ipython3",
   "version": "3.8.3"
  }
 },
 "nbformat": 4,
 "nbformat_minor": 2
}
